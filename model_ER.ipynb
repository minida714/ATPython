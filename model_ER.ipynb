{
 "cells": [
  {
   "cell_type": "markdown",
   "metadata": {},
   "source": [
    "## Random Graph (Erdős–Rényi model)"
   ]
  },
  {
   "cell_type": "code",
   "execution_count": 11,
   "metadata": {},
   "outputs": [],
   "source": [
    "import random"
   ]
  },
  {
   "cell_type": "code",
   "execution_count": 12,
   "metadata": {},
   "outputs": [],
   "source": [
    "# graph 생성\n",
    "size = 8\n",
    "p = 0.5\n",
    "\n",
    "# graph = [[0]*size]*size # : indexing이 중첩되기 때문에 선호되지 않음\n",
    "graph = [[0]*size for i in range(size)]"
   ]
  },
  {
   "cell_type": "code",
   "execution_count": 13,
   "metadata": {},
   "outputs": [
    {
     "name": "stdout",
     "output_type": "stream",
     "text": [
      "0.2219262236487295\n",
      "0.25742669594858925\n",
      "0.4885676099928975\n",
      "0.4282233434183462\n",
      "0.09522494871697196\n",
      "0.1378563704768423\n",
      "0.3547939368367202\n",
      "0.4301739288028371\n",
      "0.45963771593107206\n",
      "0.4220814656350488\n",
      "0.02948476452619586\n",
      "0.09772605757737751\n",
      "0.32785699702866455\n"
     ]
    }
   ],
   "source": [
    "for i in range(size):\n",
    "    for j in range(i+1, size):\n",
    "        # random 함수를 통한 연결 확률 부여\n",
    "        probility = random.random()\n",
    "        if probility < p:\n",
    "            graph[i][j] = 1\n",
    "            graph[j][i] = 1\n",
    "            print(probility)"
   ]
  },
  {
   "cell_type": "code",
   "execution_count": 14,
   "metadata": {},
   "outputs": [
    {
     "data": {
      "text/plain": [
       "[[0, 0, 1, 0, 1, 0, 0, 1],\n",
       " [0, 0, 1, 1, 1, 1, 0, 0],\n",
       " [1, 1, 0, 1, 0, 0, 1, 0],\n",
       " [0, 1, 1, 0, 1, 0, 0, 1],\n",
       " [1, 1, 0, 1, 0, 0, 0, 1],\n",
       " [0, 1, 0, 0, 0, 0, 0, 1],\n",
       " [0, 0, 1, 0, 0, 0, 0, 0],\n",
       " [1, 0, 0, 1, 1, 1, 0, 0]]"
      ]
     },
     "execution_count": 14,
     "metadata": {},
     "output_type": "execute_result"
    }
   ],
   "source": [
    "graph"
   ]
  },
  {
   "cell_type": "code",
   "execution_count": null,
   "metadata": {},
   "outputs": [],
   "source": []
  }
 ],
 "metadata": {
  "kernelspec": {
   "display_name": "Python 3",
   "language": "python",
   "name": "python3"
  },
  "language_info": {
   "codemirror_mode": {
    "name": "ipython",
    "version": 3
   },
   "file_extension": ".py",
   "mimetype": "text/x-python",
   "name": "python",
   "nbconvert_exporter": "python",
   "pygments_lexer": "ipython3",
   "version": "3.8.3"
  }
 },
 "nbformat": 4,
 "nbformat_minor": 4
}
