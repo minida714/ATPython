{
 "cells": [
  {
   "cell_type": "markdown",
   "metadata": {},
   "source": [
    "### [ATP 수업자료] python 기본 사용법 (2021.05.13)\n",
    "\n",
    "#### < 목차 > \n",
    "\n",
    "    0. 기본 단축키와 주석\n",
    "\n",
    "    1. python파일(.py)생성과 main 함수\n",
    "\n",
    "    2. python 변수 선언과 자료형\n",
    "\n",
    "    3. python 조건문(if)과 반복문(for)\n",
    "\n",
    "    4. 2D array(2D list)\n",
    "    \n",
    "---"
   ]
  },
  {
   "cell_type": "markdown",
   "metadata": {},
   "source": [
    "#### 0. 기본 단축키\n",
    "\n",
    "- 셀 : 각각의 블록들을 의미 \n",
    "\n",
    "- Shift+Enter : 셀 실행 (실행 후 다음 셀로 넘어감)\n",
    "\n",
    "- Ctrl+Enter : 셀 실행 (실행 후 현재 셀에 머뭄)\n",
    "\n",
    "- Ctrl+S : 파일 저장\n",
    "\n",
    "< Esc 누르고 or 셀 밖을 누르고 사용하는 단축키 >\n",
    "\n",
    "- M : Markdown 셀로 변경\n",
    "\n",
    "- Z : 셀 삭제 되돌리기"
   ]
  },
  {
   "cell_type": "markdown",
   "metadata": {},
   "source": [
    "### 1. python 파일(.py)생성과 main 함수"
   ]
  },
  {
   "cell_type": "code",
   "execution_count": 14,
   "metadata": {},
   "outputs": [
    {
     "name": "stdout",
     "output_type": "stream",
     "text": [
      "Writing my_first_python.py\n"
     ]
    }
   ],
   "source": [
    "%%writefile my_first_python.py \n",
    "\n",
    "if __name__==\"__main__\": \n",
    "    return\n",
    "\n",
    "# + 주석처리 방법 : 글 앞에 # 붙이기 or \"\"\" \"\"\" 사용"
   ]
  },
  {
   "cell_type": "markdown",
   "metadata": {},
   "source": [
    "### 2. python 변수선언과 자료형"
   ]
  },
  {
   "cell_type": "code",
   "execution_count": 15,
   "metadata": {},
   "outputs": [
    {
     "name": "stdout",
     "output_type": "stream",
     "text": [
      "Lee Damin 26\n"
     ]
    },
    {
     "name": "stdin",
     "output_type": "stream",
     "text": [
      "write the number 777\n"
     ]
    },
    {
     "name": "stdout",
     "output_type": "stream",
     "text": [
      "777\n"
     ]
    }
   ],
   "source": [
    "\"\"\" \n",
    "    2.1 변수\n",
    "    - 변수 이름으로 쓸 수 없는 것 : 띄어쓰기, 숫자로만, 내장함수이름(print, min, len 등) \n",
    "    2.1.1 변수 입출력\n",
    "    - 출력: print(변수), 입력: 변수 = input(안내)\n",
    "    \n",
    "    2.2 자료형\n",
    "    - Number(숫자) : int(정수), float(소수) 등 \n",
    "    - String(문자열) : ' ', \" \", ''' ''' , \"\"\" \"\"\" 등 사용해 생성\n",
    "    - List(리스트) : [ , , ] 여러 자료를 순서대로 저장 (하나의 목록을 만든다고 생각) \n",
    "    - Bool(논리 자료형) : True, False, 1(참), 0(거짓)\n",
    "\"\"\"\n",
    "# String(문자열)\n",
    "name = \"Lee Damin\" \n",
    "# Number(숫자)\n",
    "age = 26 \n",
    "\n",
    "# List(리스트)\n",
    "test_list = [1, 2, 3, 4, 5] \n",
    "\n",
    "# print(출력)과 input(입력)\n",
    "print(name, age)\n",
    "number = input(\"write the number\")\n",
    "print(number)"
   ]
  },
  {
   "cell_type": "code",
   "execution_count": 16,
   "metadata": {},
   "outputs": [
    {
     "name": "stdout",
     "output_type": "stream",
     "text": [
      "1 False [3, 4, 5]\n"
     ]
    }
   ],
   "source": [
    "\"\"\" \n",
    "    2.2.1 List(리스트)\n",
    "    - list 생성 \n",
    "    - list index\n",
    "    - list 추가 \n",
    "    - list 삭제\n",
    "\"\"\"\n",
    "\n",
    "# list에는 숫자 이외에도 변수, 서로 다른 여러 자료형을 저장할 수 있다. \n",
    "test_list = [1, 2, 3, 4, 5, name, \"name\", True, False]\n",
    "\n",
    "# list index : 첫번째 0부터 시작, list[index]로 값에 접근가능\n",
    "# [-1] : 맨 뒤에서 첫번째, [n:m] : n부터 m-1까지\n",
    "print(test_list[0], test_list[-1], test_list[2:5])"
   ]
  },
  {
   "cell_type": "code",
   "execution_count": 17,
   "metadata": {},
   "outputs": [
    {
     "name": "stdout",
     "output_type": "stream",
     "text": [
      "[1, 2, 3, 'third', 4, 5, 'Lee Damin', 'name', True, False, 'hi']\n"
     ]
    }
   ],
   "source": [
    "# list 추가 : append(맨 끝에 추가), insert(지정해준 인덱스에 추가)\n",
    "test_list.append(\"hi\")\n",
    "test_list.insert(3, \"third\")\n",
    "print(test_list)"
   ]
  },
  {
   "cell_type": "code",
   "execution_count": 18,
   "metadata": {},
   "outputs": [
    {
     "name": "stdout",
     "output_type": "stream",
     "text": [
      "[1, 2, 3, 'third', 4, 5, 'name', True, False]\n",
      "hi\n"
     ]
    }
   ],
   "source": [
    "# list 삭제 : remove(값을 삭제), pop(인덱스에 있는 값을 삭제 + 반환까지 해줌)\n",
    "test_list.remove(name)\n",
    "print(test_list)\n",
    "\n",
    "whatisthis = test_list.pop(-1)\n",
    "print(whatisthis)"
   ]
  },
  {
   "cell_type": "markdown",
   "metadata": {},
   "source": [
    "### 3. python 조건문(if)과 반복문(for)"
   ]
  },
  {
   "cell_type": "code",
   "execution_count": 19,
   "metadata": {},
   "outputs": [
    {
     "name": "stdout",
     "output_type": "stream",
     "text": [
      "20 is under 100\n"
     ]
    }
   ],
   "source": [
    "\"\"\" \n",
    "    3.1 조건문(if) \n",
    "    if (조건): \n",
    "        조건이 참일때 블록의 코드를 실행\n",
    "        들여쓰기를 해야 한 블록으로 인식\n",
    "\"\"\"\n",
    "number = 20\n",
    "\n",
    "if number > 100:\n",
    "    print(number, \"is over 100\")\n",
    "#     print(\"%d is over 100\" % number)\n",
    "elif number < 100: \n",
    "#     elif = else if\n",
    "    print(number, \"is under 100\")\n",
    "else:\n",
    "    print(\"False to identify\")"
   ]
  },
  {
   "cell_type": "code",
   "execution_count": 20,
   "metadata": {},
   "outputs": [
    {
     "name": "stdout",
     "output_type": "stream",
     "text": [
      "I'm Damin!\n"
     ]
    }
   ],
   "source": [
    "if name == \"Lee Damin\":\n",
    "    print(\"I'm Damin!\")\n",
    "    \n",
    "if name != \"Lee Damin\":\n",
    "    print(\"I'm not Damin.\")"
   ]
  },
  {
   "cell_type": "code",
   "execution_count": 24,
   "metadata": {},
   "outputs": [
    {
     "name": "stdout",
     "output_type": "stream",
     "text": [
      "[range(7)]\n",
      "0\n",
      "1\n",
      "2\n",
      "3\n",
      "4\n",
      "5\n",
      "6\n",
      "\n",
      "[range(100,105)]\n",
      "100\n",
      "101\n",
      "102\n",
      "103\n",
      "104\n"
     ]
    }
   ],
   "source": [
    "\"\"\" \n",
    "    3.2 반복문(for) \n",
    "        마찬가지로 들여쓰기를 해야 한 블록으로 인식\n",
    "    for (변수) in range(횟수): \n",
    "        range가 0부터 입력한 횟수까지의 리스트를 만들어줘서 횟수만큼 반복\n",
    "    for (변수) in (순서대로 읽을 목록(리스트)):\n",
    "        순서대로 리스트에 있는 값을 변수에 저장해서 넘어가면서 사용\n",
    "\"\"\"\n",
    "\n",
    "print(\"[range(7)]\") \n",
    "for value in range(7):\n",
    "    print(value)\n",
    "\n",
    "print(\"\\n[range(100,105)]\") # \\n: 줄바꿈\n",
    "for value in range(100,105):\n",
    "    print(value)"
   ]
  },
  {
   "cell_type": "code",
   "execution_count": 25,
   "metadata": {},
   "outputs": [
    {
     "name": "stdout",
     "output_type": "stream",
     "text": [
      "[test_list]\n",
      "1\n",
      "2\n",
      "3\n",
      "third\n",
      "4\n",
      "5\n",
      "name\n",
      "True\n",
      "False\n"
     ]
    }
   ],
   "source": [
    "print(\"[test_list]\")\n",
    "for init in test_list:\n",
    "    print(init)"
   ]
  },
  {
   "cell_type": "markdown",
   "metadata": {},
   "source": [
    "### 4. 2D array(2D list)"
   ]
  },
  {
   "cell_type": "code",
   "execution_count": 28,
   "metadata": {},
   "outputs": [
    {
     "data": {
      "text/plain": [
       "[[0, 1, 0], [1, 0, 1], [0, 1, 0]]"
      ]
     },
     "execution_count": 28,
     "metadata": {},
     "output_type": "execute_result"
    }
   ],
   "source": [
    "\"\"\" \n",
    "    4.1 2D array \n",
    "    리스트 안에 리스트를 넣는 것 [[]]\n",
    "    * : 숫자 사이에 쓰이면 곱하기\n",
    "    * : 리스트와 같은 순차가 있는 시퀀스에 쓰이면 반복\n",
    "\"\"\"\n",
    "\n",
    "network = [[0,1,0],[1,0,1],[0,1,0]]\n",
    "network"
   ]
  },
  {
   "cell_type": "code",
   "execution_count": 29,
   "metadata": {},
   "outputs": [
    {
     "data": {
      "text/plain": [
       "[[0, 0, 0, 0, 0, 0, 0, 0, 0, 0],\n",
       " [0, 0, 0, 0, 0, 0, 0, 0, 0, 0],\n",
       " [0, 0, 0, 0, 0, 0, 0, 0, 0, 0],\n",
       " [0, 0, 0, 0, 0, 0, 0, 0, 0, 0],\n",
       " [0, 0, 0, 0, 0, 0, 0, 0, 0, 0],\n",
       " [0, 0, 0, 0, 0, 0, 0, 0, 0, 0],\n",
       " [0, 0, 0, 0, 0, 0, 0, 0, 0, 0],\n",
       " [0, 0, 0, 0, 0, 0, 0, 0, 0, 0],\n",
       " [0, 0, 0, 0, 0, 0, 0, 0, 0, 0],\n",
       " [0, 0, 0, 0, 0, 0, 0, 0, 0, 0]]"
      ]
     },
     "execution_count": 29,
     "metadata": {},
     "output_type": "execute_result"
    }
   ],
   "source": [
    "size = 10\n",
    "\n",
    "network = [[0]*size]*size \n",
    "network"
   ]
  },
  {
   "cell_type": "code",
   "execution_count": null,
   "metadata": {},
   "outputs": [],
   "source": []
  }
 ],
 "metadata": {
  "kernelspec": {
   "display_name": "Python 3",
   "language": "python",
   "name": "python3"
  },
  "language_info": {
   "codemirror_mode": {
    "name": "ipython",
    "version": 3
   },
   "file_extension": ".py",
   "mimetype": "text/x-python",
   "name": "python",
   "nbconvert_exporter": "python",
   "pygments_lexer": "ipython3",
   "version": "3.8.3"
  }
 },
 "nbformat": 4,
 "nbformat_minor": 4
}
