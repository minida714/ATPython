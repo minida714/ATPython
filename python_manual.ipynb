{
    "cells": [
        {
            "cell_type": "markdown",
            "metadata": {},
            "source": [
                "### [ATP 수업자료] python 기본 사용법 (2021.05.13)\n",
                "\n",
                "#### < 목차 > \n",
                "\n",
                "    0. 기본 단축키와 주석\n",
                "\n",
                "    1. 파일(.py)생성과 main 함수\n",
                "\n",
                "    2. 변수 선언과 자료형\n",
                "\n",
                "    3. 조건문(if)과 반복문(for)\n",
                "    \n",
                "    4. 함수(function)\n",
                "    \n",
                "    5. 모듈(module)\n",
                "---",
            ],
        },
        {
            "cell_type": "markdown",
            "metadata": {},
            "source": [
                "### 0. 기본 단축키\n",
                "\n",
                "- 셀 : 각각의 블록들을 의미 \n",
                "\n",
                "- Shift+Enter : 셀 실행 (실행 후 다음 셀로 넘어감)\n",
                "\n",
                "- Ctrl+Enter : 셀 실행 (실행 후 현재 셀에 머뭄)\n",
                "\n",
                "- Ctrl+S : 파일 저장\n",
                "\n",
                "< Esc 누르고 or 셀 밖을 누르고 사용하는 단축키 >\n",
                "\n",
                "- M : Markdown 셀로 변경\n",
                "\n",
                "- Z : 셀 삭제 되돌리기",
            ],
        },
        {
            "cell_type": "markdown",
            "metadata": {},
            "source": ["---\n", "### 1. python 파일(.py)생성과 main 함수"],
        },
        {
            "cell_type": "code",
            "execution_count": 2,
            "metadata": {},
            "outputs": [
                {
                    "name": "stdout",
                    "output_type": "stream",
                    "text": ["Writing my_first_python.py\n"],
                }
            ],
            "source": [
                "%%writefile my_first_python.py \n",
                "\n",
                'if __name__=="__main__": \n',
                "    return\n",
                "\n",
                '# + 주석처리 방법 : 글 앞에 # 붙이기 or """ """ 사용',
            ],
        },
        {
            "cell_type": "markdown",
            "metadata": {},
            "source": [
                "---\n",
                "### 2. python 변수선언과 자료형\n",
                "\n",
                "#### 2.1 변수\n",
                "- 변수 이름으로 쓸 수 없는 것 : 띄어쓰기, 숫자로만, 내장함수이름(print, min, len 등)\n",
                "> #### 2.1.1 변수 입출력\n",
                "> - 출력: print(변수)\n",
                "> - 입력: 변수 = input(안내)\n",
                "\n",
                "#### 2.2 자료형\n",
                "- Number(숫자) : int(정수), float(소수) 등 \n",
                "- String(문자열) : ' ', \" \", ''' ''' , \"\"\" \"\"\" 등 사용해 생성\n",
                "- List(리스트) : [ , , ] 여러 자료를 순서대로 저장 (하나의 목록을 만든다고 생각) \n",
                "- Bool(논리 자료형) : True, False, 1(참), 0(거짓)",
            ],
        },
        {
            "cell_type": "code",
            "execution_count": 3,
            "metadata": {},
            "outputs": [
                {"name": "stdout", "output_type": "stream", "text": ["Lee Damin 26\n"]},
                {
                    "name": "stdin",
                    "output_type": "stream",
                    "text": ["write the number 711\n"],
                },
                {"name": "stdout", "output_type": "stream", "text": ["711\n"]},
            ],
            "source": [
                "# String(문자열)\n",
                'name = "Lee Damin" \n',
                "# Number(숫자)\n",
                "age = 26 \n",
                "# List(리스트)\n",
                "test_list = [1, 2, 3, 4, 5] \n",
                "# Boolean(논리 자료형)\n",
                "yes_or_no = True\n",
                "\n",
                "# print(출력)과 input(입력)\n",
                "print(name, age)\n",
                'number = input("write the number")\n',
                "print(number)",
            ],
        },
        {
            "cell_type": "markdown",
            "metadata": {},
            "source": ["> #### 2.2.1 list(리스트)\n", "리스트 생성, indexing, 추가, 삭제"],
        },
        {
            "cell_type": "code",
            "execution_count": 4,
            "metadata": {},
            "outputs": [
                {
                    "name": "stdout",
                    "output_type": "stream",
                    "text": ["1 False [3, 4, 5]\n"],
                }
            ],
            "source": [
                "# list에는 숫자 이외에도 변수, 서로 다른 여러 자료형을 저장할 수 있다. \n",
                'test_list = [1, 2, 3, 4, 5, name, "name", True, False]\n',
                "\n",
                "# list index : 첫번째 0부터 시작, list[index]로 값에 접근가능\n",
                "# [-1] : 맨 뒤에서 첫번째, [n:m] : n부터 m-1까지\n",
                "print(test_list[0], test_list[-1], test_list[2:5])",
            ],
        },
        {
            "cell_type": "code",
            "execution_count": 5,
            "metadata": {},
            "outputs": [
                {
                    "name": "stdout",
                    "output_type": "stream",
                    "text": [
                        "[1, 2, 3, 'third', 4, 5, 'Lee Damin', 'name', True, False, 'hi']\n"
                    ],
                }
            ],
            "source": [
                "# list 추가 : append(맨 끝에 추가), insert(지정해준 인덱스에 추가)\n",
                'test_list.append("hi")\n',
                'test_list.insert(3, "third")\n',
                "print(test_list)",
            ],
        },
        {
            "cell_type": "code",
            "execution_count": 6,
            "metadata": {},
            "outputs": [
                {
                    "name": "stdout",
                    "output_type": "stream",
                    "text": [
                        "[1, 2, 3, 'third', 4, 5, 'name', True, False, 'hi']\n",
                        "hi\n",
                    ],
                }
            ],
            "source": [
                "# list 삭제 : remove(값을 삭제), pop(인덱스에 있는 값을 삭제 + 반환까지 해줌)\n",
                "test_list.remove(name)\n",
                "print(test_list)\n",
                "\n",
                "whatisthis = test_list.pop(-1)\n",
                "print(whatisthis)",
            ],
        },
        {
            "cell_type": "markdown",
            "metadata": {},
            "source": [
                "> #### 2.2.2 2D array(list)\n",
                "리스트 안에 리스트를 넣는 것\n",
                "> - \\* : 숫자 사이에 쓰이면 곱하기\n",
                "> - \\* : 리스트와 같은 순차가 있는 시퀀스에 쓰이면 반복",
            ],
        },
        {
            "cell_type": "code",
            "execution_count": 7,
            "metadata": {},
            "outputs": [
                {
                    "data": {
                        "text/plain": [
                            "[1, 2, 3, 'third', 4, 5, 'name', True, False, ['a', 'b', 'c']]"
                        ]
                    },
                    "execution_count": 7,
                    "metadata": {},
                    "output_type": "execute_result",
                }
            ],
            "source": ['test_list.append(["a", "b", "c"])\n', "test_list"],
        },
        {
            "cell_type": "code",
            "execution_count": 10,
            "metadata": {},
            "outputs": [
                {
                    "data": {"text/plain": ["[[0, 1, 0], [1, 0, 1], [0, 1, 0]]"]},
                    "execution_count": 10,
                    "metadata": {},
                    "output_type": "execute_result",
                }
            ],
            "source": ["network = [[0, 1, 0], [1, 0, 1], [0, 1, 0]] \n", "network"],
        },
        {
            "cell_type": "code",
            "execution_count": 11,
            "metadata": {},
            "outputs": [
                {
                    "data": {"text/plain": ["[0, 0, 0, 0, 0, 0, 0, 0, 0, 0]"]},
                    "execution_count": 11,
                    "metadata": {},
                    "output_type": "execute_result",
                }
            ],
            "source": [
                "size = 10\n",
                "\n",
                "network = [[0]*size]*size \n",
                "network[0]",
            ],
        },
        {
            "cell_type": "markdown",
            "metadata": {},
            "source": ["graph = [[0]*size]*size # indexing이 중첩되기 때문에 선호되지 않음"],
        },
        {
            "cell_type": "markdown",
            "metadata": {},
            "source": [
                "---\n",
                "### 3. python 조건문(if)과 반복문(for)\n",
                "#### 3.1 조건문(if) \n",
                "    if (조건): \n",
                "        조건이 참일때 블록의 코드를 실행\n",
                "        들여쓰기를 해야 한 블록으로 인식",
            ],
        },
        {
            "cell_type": "code",
            "execution_count": 19,
            "metadata": {},
            "outputs": [
                {
                    "name": "stdout",
                    "output_type": "stream",
                    "text": ["20 is under 100\n"],
                }
            ],
            "source": [
                "number = 20\n",
                "\n",
                "if number > 100:\n",
                '    print(number, "is over 100")\n',
                '#     print("%d is over 100" % number)\n',
                "elif number < 100: \n",
                "#     elif = else if\n",
                '    print(number, "is under 100")\n',
                "else:\n",
                '    print("False to identify")',
            ],
        },
        {
            "cell_type": "code",
            "execution_count": 20,
            "metadata": {},
            "outputs": [
                {"name": "stdout", "output_type": "stream", "text": ["I'm Damin!\n"]}
            ],
            "source": [
                'if name == "Lee Damin":\n',
                '    print("I\'m Damin!")\n',
                "    \n",
                'if name != "Lee Damin":\n',
                '    print("I\'m not Damin.")',
            ],
        },
        {
            "cell_type": "markdown",
            "metadata": {},
            "source": [
                "#### 3.2 반복문(for) : 마찬가지로 들여쓰기를 해야 한 블록으로 인식\n",
                "    for (변수) in range(횟수): \n",
                "        range가 0부터 입력한 횟수까지의 리스트를 만들어줘서 횟수만큼 반복\n",
                "    for (변수) in (순서대로 읽을 목록(리스트)):\n",
                "        순서대로 리스트에 있는 값을 변수에 저장해서 넘어가면서 사용",
            ],
        },
        {
            "cell_type": "code",
            "execution_count": 24,
            "metadata": {},
            "outputs": [
                {
                    "name": "stdout",
                    "output_type": "stream",
                    "text": [
                        "[range(7)]\n",
                        "0\n",
                        "1\n",
                        "2\n",
                        "3\n",
                        "4\n",
                        "5\n",
                        "6\n",
                        "\n",
                        "[range(100,105)]\n",
                        "100\n",
                        "101\n",
                        "102\n",
                        "103\n",
                        "104\n",
                    ],
                }
            ],
            "source": [
                'print("[range(7)]") \n',
                "for value in range(7):\n",
                "    print(value)\n",
                "\n",
                'print("\\n[range(100,105)]") # \\n: 줄바꿈\n',
                "for value in range(100,105):\n",
                "    print(value)",
            ],
        },
        {
            "cell_type": "code",
            "execution_count": 25,
            "metadata": {},
            "outputs": [
                {
                    "name": "stdout",
                    "output_type": "stream",
                    "text": [
                        "[test_list]\n",
                        "1\n",
                        "2\n",
                        "3\n",
                        "third\n",
                        "4\n",
                        "5\n",
                        "name\n",
                        "True\n",
                        "False\n",
                    ],
                }
            ],
            "source": [
                'print("[test_list]")\n',
                "for init in test_list:\n",
                "    print(init)",
            ],
        },
        {
            "cell_type": "markdown",
            "metadata": {},
            "source": [
                "---\n",
                "### 4. 함수(function) \n",
                "특정 기능을 수행하는 코드의 집합 (입력 -> 함수 -> 출력)\n",
                "> #### 4.1 사용자 정의 함수\n",
                "    def function_name(parameters):\n",
                "        (코드 작성)\n",
                "        return value \n",
                "        \n",
                "> - 매개변수(parameter): 함수의 입력 변수명\n",
                "> - 인수(argument): 함수의 입력 값(실제 전달되는 값)\n",
                "> - 반환값(return): 함수를 나갈 때 함께 내보내는 값(반환하는 값이 없을 수도 있음)\n",
            ],
        },
        {
            "cell_type": "code",
            "execution_count": 9,
            "metadata": {},
            "outputs": [],
            "source": [
                "# parameter와 return이 모두 없는 경우\n",
                "def say_hi():\n",
                '    print("Hello World!")\n',
                "    \n",
                "# parameter는 없는데 return은 있는 경우\n",
                "def send_hi():\n",
                '    x = "Hello World!"\n',
                "    return x",
            ],
        },
        {
            "cell_type": "code",
            "execution_count": 10,
            "metadata": {},
            "outputs": [
                {"name": "stdout", "output_type": "stream", "text": ["Hello World!\n"]}
            ],
            "source": ["say_hi()"],
        },
        {
            "cell_type": "code",
            "execution_count": 11,
            "metadata": {},
            "outputs": [
                {
                    "data": {"text/plain": ["'Hello World!'"]},
                    "execution_count": 11,
                    "metadata": {},
                    "output_type": "execute_result",
                }
            ],
            "source": ["hello = send_hi()\n", "hello"],
        },
        {
            "cell_type": "code",
            "execution_count": 13,
            "metadata": {},
            "outputs": [],
            "source": [
                "# parameter와 return 모두 있는 경우\n",
                "def mutiple(x,y):\n",
                "    return x*y",
            ],
        },
        {
            "cell_type": "code",
            "execution_count": 15,
            "metadata": {},
            "outputs": [
                {
                    "data": {"text/plain": ["30000"]},
                    "execution_count": 15,
                    "metadata": {},
                    "output_type": "execute_result",
                }
            ],
            "source": ["a = 100\n", "b = 300\n", "\n", "ab = mutiple(a,b)\n", "ab"],
        },
        {
            "cell_type": "code",
            "execution_count": 14,
            "metadata": {},
            "outputs": [],
            "source": [
                "# parameter로 어떤 값이 넘어오는지는 명시하지 않아도 알아서 처리해준다\n",
                "# list 안에 값을 모두 더해주는 함수\n",
                "def sum_function(sequence):\n",
                "    x = 0\n",
                "    for number in sequence:\n",
                "        x = x+number\n",
                "#         x += number\n",
                "    return x",
            ],
        },
        {
            "cell_type": "code",
            "execution_count": 15,
            "metadata": {},
            "outputs": [
                {
                    "data": {"text/plain": ["150"]},
                    "execution_count": 15,
                    "metadata": {},
                    "output_type": "execute_result",
                }
            ],
            "source": [
                "number_list = [10,20,30,40,50]\n",
                "\n",
                "total = sum_function(number_list)\n",
                "total",
            ],
        },
        {
            "cell_type": "markdown",
            "metadata": {},
            "source": [
                "> - 전역변수(global variable): 프로그램 전체에서 유효한 변수\n",
                "> - 지역변수(local variable): 함수 안에서 정의되어 함수 블록 안에서만 유효한 변수",
            ],
        },
        {
            "cell_type": "code",
            "execution_count": 16,
            "metadata": {},
            "outputs": [
                {
                    "ename": "NameError",
                    "evalue": "name 'x' is not defined",
                    "output_type": "error",
                    "traceback": [
                        "\u001b[0;31m---------------------------------------------------------------------------\u001b[0m",
                        "\u001b[0;31mNameError\u001b[0m                                 Traceback (most recent call last)",
                        "\u001b[0;32m<ipython-input-16-6fcf9dfbd479>\u001b[0m in \u001b[0;36m<module>\u001b[0;34m\u001b[0m\n\u001b[0;32m----> 1\u001b[0;31m \u001b[0mx\u001b[0m\u001b[0;34m\u001b[0m\u001b[0;34m\u001b[0m\u001b[0m\n\u001b[0m",
                        "\u001b[0;31mNameError\u001b[0m: name 'x' is not defined",
                    ],
                }
            ],
            "source": ["x"],
        },
        {
            "cell_type": "markdown",
            "metadata": {},
            "source": [
                "> #### 4.2. 파이썬 내장함수\n",
                "> 파이썬 내부에 저장된 함수로 그냥 사용하면 됨. len(), sum(), min(), max() 등등등",
            ],
        },
        {
            "cell_type": "code",
            "execution_count": 20,
            "metadata": {},
            "outputs": [
                {"name": "stdout", "output_type": "stream", "text": ["5 150 10 50\n"]}
            ],
            "source": [
                "length = len(number_list)\n",
                "total = sum(number_list)\n",
                "min_= min(number_list)\n",
                "max_ = max(number_list)\n",
                "\n",
                "print(length, total, min_, max_)",
            ],
        },
        {
            "cell_type": "markdown",
            "metadata": {},
            "source": [
                "---\n",
                "### 5. 모듈(module)\n",
                "필요한 변수, 자료, 함수 등을 모두 모아 놓은 것\n",
                "    \n",
                "    import module_name\n",
                "    import (module_name) as (사용하고 싶은 이름)",
            ],
        },
        {
            "cell_type": "code",
            "execution_count": 4,
            "metadata": {},
            "outputs": [],
            "source": [
                "import random\n",
                "import numpy as np\n",
                "\n",
                "c = np.sum(number_list)\n",
                "\n",
                "# 제곱근을 반환하는 함수 \n",
                "np.sqrt(number_list)",
            ],
        },
        {
            "cell_type": "code",
            "execution_count": 31,
            "metadata": {},
            "outputs": [
                {
                    "data": {
                        "image/png": "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\n",
                        "text/plain": ["<Figure size 432x288 with 1 Axes>"],
                    },
                    "metadata": {},
                    "output_type": "display_data",
                }
            ],
            "source": [
                "import networkx as nx\n",
                "\n",
                "N, k, p = 10, 4, 0.1\n",
                "\n",
                "smallworld = nx.watts_strogatz_graph(N, k, p)\n",
                "# graph = nx.watts_strogatz_graph(30, 4, 0.01)\n",
                "nx.draw_circular(smallworld, with_labels=True)",
            ],
        },
        {
            "cell_type": "code",
            "execution_count": null,
            "metadata": {},
            "outputs": [],
            "source": [],
        },
    ],
    "metadata": {
        "kernelspec": {
            "display_name": "Python 3",
            "language": "python",
            "name": "python3",
        },
        "language_info": {
            "codemirror_mode": {"name": "ipython", "version": 3},
            "file_extension": ".py",
            "mimetype": "text/x-python",
            "name": "python",
            "nbconvert_exporter": "python",
            "pygments_lexer": "ipython3",
            "version": "3.8.5",
        },
    },
    "nbformat": 4,
    "nbformat_minor": 4,
}
