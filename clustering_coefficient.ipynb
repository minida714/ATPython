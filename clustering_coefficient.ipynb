{
 "cells": [
  {
   "cell_type": "markdown",
   "metadata": {},
   "source": [
    "## Clustering Coefficient"
   ]
  },
  {
   "cell_type": "code",
   "execution_count": 17,
   "metadata": {},
   "outputs": [
    {
     "data": {
      "text/plain": [
       "[[0, 0, 1, 0, 0, 0, 0, 0],\n",
       " [0, 0, 1, 1, 0, 0, 0, 0],\n",
       " [1, 1, 0, 1, 0, 0, 0, 1],\n",
       " [0, 1, 1, 0, 1, 0, 0, 1],\n",
       " [0, 0, 0, 1, 0, 1, 1, 0],\n",
       " [0, 0, 0, 0, 1, 0, 0, 0],\n",
       " [0, 0, 0, 0, 1, 0, 0, 0],\n",
       " [0, 0, 1, 1, 0, 0, 0, 0]]"
      ]
     },
     "execution_count": 17,
     "metadata": {},
     "output_type": "execute_result"
    }
   ],
   "source": [
    "# 네트워크 생성\n",
    "size = 8\n",
    "# graph = [[0]*size]*size # indexing이 중첩되기 때문에 선호되지 않음\n",
    "graph = [[0]*size for i in range(size)]\n",
    "\n",
    "# (A,C), (B,C), (B,D), (C,D), (C,H), (D,E), (D,H), (E,F), (E,G)\n",
    "edges = [(0,2), (1,2), (1,3), (2,3), (2,7), (3,4), (3,7), (4,5), (4,6)]\n",
    "\n",
    "for (from_, to_) in edges:   \n",
    "    graph[from_][to_] = 1\n",
    "    graph[to_][from_] = 1\n",
    "\n",
    "graph"
   ]
  },
  {
   "cell_type": "code",
   "execution_count": 31,
   "metadata": {},
   "outputs": [],
   "source": [
    "def number_of_triangle(G, neighbors):\n",
    "    \n",
    "    # 이웃한 노드들끼리 연결된 개수(triangles)\n",
    "    triangles = 0\n",
    "\n",
    "     # 이웃한 노드들끼리 연결되었는지 아닌지 확인 : 연결되었으면 triangles에 1더하기 \n",
    "    for i in neighbors:\n",
    "        for j in neighbors:\n",
    "            if G[i][j] == 1:\n",
    "                triangles = triangles + 1\n",
    "#                 triangle += 1\n",
    "\n",
    "    # 이웃한 노드들끼리 연결된 개수(triangles) 반환\n",
    "    return triangles"
   ]
  },
  {
   "cell_type": "code",
   "execution_count": 33,
   "metadata": {},
   "outputs": [
    {
     "name": "stdout",
     "output_type": "stream",
     "text": [
      "Clustering coefficient of node 0 : 0.00\n",
      "Clustering coefficient of node 1 : 1.00\n",
      "Clustering coefficient of node 2 : 0.33\n",
      "Clustering coefficient of node 3 : 0.33\n",
      "Clustering coefficient of node 4 : 0.00\n",
      "Clustering coefficient of node 5 : 0.00\n",
      "Clustering coefficient of node 6 : 0.00\n",
      "Clustering coefficient of node 7 : 1.00\n",
      "\n",
      "Average Clustering coefficient = 0.33\n"
     ]
    }
   ],
   "source": [
    "# 계산한 Clustering coefficient를 넣을 dictionary\n",
    "clustering_coefficient = {}\n",
    "\n",
    "for i in range(size):\n",
    "    # 친구들(이웃한 노드들) 찾기\n",
    "    friends = [] \n",
    "    for j in range(size):\n",
    "        if graph[i][j] == 1:\n",
    "            friends.append(j)\n",
    "#     friends = [j for j in range(size) if graph[i][j] == 1]\n",
    "    \n",
    "    degree = len(friends)\n",
    "    \n",
    "    # 친구들(이웃한 노드들)끼리 연결된 개수 찾기 \n",
    "    triangle = number_of_triangle(graph, friends)\n",
    "                \n",
    "    # degree가 1이면, 친구가 한 명 밖에 없으므로 0    \n",
    "    if degree == 1:\n",
    "        clustering_coefficient[i] = 0\n",
    "    else:   \n",
    "        clustering_coefficient[i] = triangle/(degree*(degree-1))\n",
    "        \n",
    "    print(\"Clustering coefficient of node %d : %.2f\" %(i, clustering_coefficient[i]))\n",
    "    \n",
    "avgC = sum(clustering_coefficient.values())/len(clustering_coefficient)\n",
    "print(\"\\nAverage Clustering coefficient = %.2f\" %(avgC))"
   ]
  },
  {
   "cell_type": "code",
   "execution_count": null,
   "metadata": {},
   "outputs": [],
   "source": []
  }
 ],
 "metadata": {
  "kernelspec": {
   "display_name": "Python 3",
   "language": "python",
   "name": "python3"
  },
  "language_info": {
   "codemirror_mode": {
    "name": "ipython",
    "version": 3
   },
   "file_extension": ".py",
   "mimetype": "text/x-python",
   "name": "python",
   "nbconvert_exporter": "python",
   "pygments_lexer": "ipython3",
   "version": "3.8.3"
  }
 },
 "nbformat": 4,
 "nbformat_minor": 4
}
