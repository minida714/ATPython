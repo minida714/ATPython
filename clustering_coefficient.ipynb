{
 "cells": [
  {
   "cell_type": "markdown",
   "metadata": {},
   "source": [
    "## Clustering Coefficient"
   ]
  },
  {
   "cell_type": "code",
   "execution_count": 1,
   "metadata": {},
   "outputs": [
    {
     "data": {
      "text/plain": [
       "[[0, 0, 0, 0, 0, 0, 0, 0],\n",
       " [0, 0, 0, 0, 0, 0, 0, 0],\n",
       " [0, 0, 0, 0, 0, 0, 0, 0],\n",
       " [0, 0, 0, 0, 0, 0, 0, 0],\n",
       " [0, 0, 0, 0, 0, 0, 0, 0],\n",
       " [0, 0, 0, 0, 0, 0, 0, 0],\n",
       " [0, 0, 0, 0, 0, 0, 0, 0],\n",
       " [0, 0, 0, 0, 0, 0, 0, 0]]"
      ]
     },
     "execution_count": 1,
     "metadata": {},
     "output_type": "execute_result"
    }
   ],
   "source": [
    "node_list = [\"a\", \"b\", \"c\", \"d\", \"e\", \"f\", \"g\", \"h\"]\n",
    "size = 8\n",
    "\n",
    "# 네트워크 생성\n",
    "graph = []\n",
    "for i in range(size):\n",
    "    graph.append([0]*size)\n",
    "graph"
   ]
  },
  {
   "cell_type": "code",
   "execution_count": 2,
   "metadata": {},
   "outputs": [
    {
     "data": {
      "text/plain": [
       "[[0, 0, 1, 0, 0, 0, 0, 0],\n",
       " [0, 0, 1, 1, 0, 0, 0, 0],\n",
       " [1, 1, 0, 1, 0, 0, 0, 1],\n",
       " [0, 1, 1, 0, 1, 0, 0, 1],\n",
       " [0, 0, 0, 1, 0, 1, 1, 0],\n",
       " [0, 0, 0, 0, 1, 0, 0, 0],\n",
       " [0, 0, 0, 0, 1, 0, 0, 0],\n",
       " [0, 0, 1, 1, 0, 0, 0, 0]]"
      ]
     },
     "execution_count": 2,
     "metadata": {},
     "output_type": "execute_result"
    }
   ],
   "source": [
    "# (A,C), (B,C), (B,D), (C,D), (C,H), (D,E), (D,H), (E,F), (E,G)\n",
    "edges = [(0,2), (1,2), (1,3), (2,3), (2,7), (3,4), (3,7), (4,5), (4,6)]\n",
    "len(edges)\n",
    "\n",
    "# 방향성이 없는 네트워크이므로 양쪽으로 다 연결\n",
    "for (x, y) in edges:\n",
    "    graph[x][y] = 1\n",
    "    graph[y][x] = 1\n",
    "graph"
   ]
  },
  {
   "cell_type": "code",
   "execution_count": 3,
   "metadata": {},
   "outputs": [
    {
     "name": "stdout",
     "output_type": "stream",
     "text": [
      "Clustering Coefficient of node a = 0.000000\n",
      "Clustering Coefficient of node b = 1.000000\n",
      "Clustering Coefficient of node c = 0.333333\n",
      "Clustering Coefficient of node d = 0.333333\n",
      "Clustering Coefficient of node e = 0.000000\n",
      "Clustering Coefficient of node f = 0.000000\n",
      "Clustering Coefficient of node g = 0.000000\n",
      "Clustering Coefficient of node h = 1.000000\n"
     ]
    }
   ],
   "source": [
    "# 각각의 clustering 값을 저장\n",
    "clustering_coefficient = []\n",
    "\n",
    "# 노드 별 반복\n",
    "for node in range(size):\n",
    "    # 친구를 찾아서 저장할 리스트\n",
    "    friends = []\n",
    "    \n",
    "    # 다른 노드들에 대해서 반복 (친구인지 아닌지 체크)\n",
    "    for neigh in range(size):\n",
    "        if graph[node][neigh] == 1:\n",
    "            friends.append(neigh)\n",
    "            \n",
    "    # 친구가 몇명인지\n",
    "    degree = len(friends)\n",
    "    \n",
    "    # 친구의 친구가 실제로 연결된 개수는?\n",
    "    count = 0\n",
    "    for i in friends:\n",
    "        for j in friends:\n",
    "            if graph[i][j] == 1:\n",
    "                count = count + 1\n",
    "#                 count += 1\n",
    "\n",
    "    # 친구가 한명이면 무조건 c가 0\n",
    "    if degree == 1:\n",
    "        c = 0\n",
    "    else:\n",
    "        c = count/(degree*(degree-1))\n",
    "        \n",
    "    clustering_coefficient.append(c)\n",
    "    \n",
    "    print(\"Clustering Coefficient of node %s = %f\" %(node_list[node],clustering_coefficient[node]))"
   ]
  },
  {
   "cell_type": "code",
   "execution_count": 4,
   "metadata": {},
   "outputs": [],
   "source": [
    "avgC = sum(clustering_coefficient)/len(clustering_coefficient)"
   ]
  },
  {
   "cell_type": "code",
   "execution_count": 5,
   "metadata": {},
   "outputs": [
    {
     "data": {
      "text/plain": [
       "0.3333333333333333"
      ]
     },
     "execution_count": 5,
     "metadata": {},
     "output_type": "execute_result"
    }
   ],
   "source": [
    "avgC"
   ]
  },
  {
   "cell_type": "markdown",
   "metadata": {},
   "source": [
    "---\n",
    "#### + 추가 내용) 함수를 사용해 코드를 간단히 하기"
   ]
  },
  {
   "cell_type": "code",
   "execution_count": 6,
   "metadata": {},
   "outputs": [],
   "source": [
    "def find_friends(graph, size, node):\n",
    "    # 친구를 찾아서 저장할 리스트\n",
    "    friends = []\n",
    "    \n",
    "    # 다른 노드들에 대해서 반복 (친구인지 아닌지 체크)\n",
    "    for neigh in range(size):\n",
    "        if graph[node][neigh] == 1:\n",
    "            friends.append(neigh)\n",
    "            \n",
    "    # 친구들을 구해 반환\n",
    "    return friends"
   ]
  },
  {
   "cell_type": "code",
   "execution_count": 7,
   "metadata": {},
   "outputs": [],
   "source": [
    "def number_of_triangle(graph, friends):\n",
    "    # 친구의 친구가 실제로 연결된 개수는?\n",
    "    count = 0\n",
    "    for i in friends:\n",
    "        for j in friends:\n",
    "            if graph[i][j] == 1:\n",
    "                count = count + 1\n",
    "#                 count += 1\n",
    "\n",
    "    # 친구의 친구가 실제로 연결된 개수(count) 반환\n",
    "    return count"
   ]
  },
  {
   "cell_type": "code",
   "execution_count": 8,
   "metadata": {},
   "outputs": [
    {
     "name": "stdout",
     "output_type": "stream",
     "text": [
      "Clustering Coefficient of node a = 0.000000\n",
      "Clustering Coefficient of node b = 1.000000\n",
      "Clustering Coefficient of node c = 0.333333\n",
      "Clustering Coefficient of node d = 0.333333\n",
      "Clustering Coefficient of node e = 0.000000\n",
      "Clustering Coefficient of node f = 0.000000\n",
      "Clustering Coefficient of node g = 0.000000\n",
      "Clustering Coefficient of node h = 1.000000\n"
     ]
    }
   ],
   "source": [
    "# 각각의 clustering 값을 저장\n",
    "clustering_coefficient = []\n",
    "\n",
    "# 노드 별 반복\n",
    "for node in range(size):\n",
    "    \n",
    "    # 코드가 길어지는 부분을 사용자 정의 함수화 함\n",
    "    friends = find_friends(graph, size, node)\n",
    "    degree = len(friends)\n",
    "    count = number_of_triangle(graph, friends)\n",
    "\n",
    "    # 친구가 한명이면 무조건 c가 0\n",
    "    if degree == 1:\n",
    "        c = 0\n",
    "    else:\n",
    "        c = count/(degree*(degree-1))\n",
    "        \n",
    "    clustering_coefficient.append(c)\n",
    "    \n",
    "    print(\"Clustering Coefficient of node %s = %f\" %(node_list[node],clustering_coefficient[node]))"
   ]
  },
  {
   "cell_type": "code",
   "execution_count": null,
   "metadata": {},
   "outputs": [],
   "source": []
  }
 ],
 "metadata": {
  "kernelspec": {
   "display_name": "Python 3",
   "language": "python",
   "name": "python3"
  },
  "language_info": {
   "codemirror_mode": {
    "name": "ipython",
    "version": 3
   },
   "file_extension": ".py",
   "mimetype": "text/x-python",
   "name": "python",
   "nbconvert_exporter": "python",
   "pygments_lexer": "ipython3",
   "version": "3.8.5"
  }
 },
 "nbformat": 4,
 "nbformat_minor": 4
}
